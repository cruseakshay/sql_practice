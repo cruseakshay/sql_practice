{
  "cells": [
    {
      "attachments": {},
      "cell_type": "markdown",
      "metadata": {
        "id": "XyA3C3PR249y"
      },
      "source": [
        "# Python Exercise\n",
        "\n",
        "In this Exercise you will be given some question on Core Python Language.\n",
        "\n",
        "Please note that all of these questions can be answered with one line of code.\n",
        "______________________________________________________________________________"
      ]
    },
    {
      "attachments": {},
      "cell_type": "markdown",
      "metadata": {},
      "source": [
        "#### Sum of Even Numbers In a List"
      ]
    },
    {
      "cell_type": "code",
      "execution_count": null,
      "metadata": {
        "id": "s0eemnBU2492"
      },
      "outputs": [],
      "source": [
        "sample_list1 = [1,2,3,4,5,6]\n",
        "sum_even = ...\n",
        "print(sum_even)"
      ]
    },
    {
      "attachments": {},
      "cell_type": "markdown",
      "metadata": {},
      "source": [
        "#### Convert List[str] to List[int]"
      ]
    },
    {
      "cell_type": "code",
      "execution_count": null,
      "metadata": {},
      "outputs": [],
      "source": [
        "sample_list2 = ['1', '2', '3', '4']\n",
        "...\n",
        "# print data type of first element or last element.\n",
        "print(...)"
      ]
    },
    {
      "attachments": {},
      "cell_type": "markdown",
      "metadata": {},
      "source": [
        "#### Sum of Xi from L1 and L2"
      ]
    },
    {
      "attachments": {},
      "cell_type": "markdown",
      "metadata": {},
      "source": [
        "list1 = [1, 2, 3, 4]\n",
        "list2 = [6, 7, 8, 9]\n",
        "expected_output = [7, 9, 11, 13]\n",
        "..."
      ]
    },
    {
      "attachments": {},
      "cell_type": "markdown",
      "metadata": {},
      "source": [
        "### Count Occurrence of Elements"
      ]
    },
    {
      "cell_type": "code",
      "execution_count": null,
      "metadata": {},
      "outputs": [],
      "source": [
        "data= [6, 5, 6, 7, 7, 8, 6, 7, 7]\n",
        "expected_output = {7: 4, 6: 3, 5: 1, 8: 1}\n",
        "..."
      ]
    },
    {
      "attachments": {},
      "cell_type": "markdown",
      "metadata": {},
      "source": [
        "#### Even Check"
      ]
    },
    {
      "cell_type": "code",
      "execution_count": null,
      "metadata": {},
      "outputs": [],
      "source": [
        "nums = [1, 2, 3, 4, 5, 6]\n",
        "expected_output = [False, True, False, True, False, True]"
      ]
    }
  ],
  "metadata": {
    "colab": {
      "name": "Ecommerce Purchases Exercise .ipynb",
      "provenance": []
    },
    "kernelspec": {
      "display_name": "Python 3",
      "language": "python",
      "name": "python3"
    },
    "language_info": {
      "codemirror_mode": {
        "name": "ipython",
        "version": 3
      },
      "file_extension": ".py",
      "mimetype": "text/x-python",
      "name": "python",
      "nbconvert_exporter": "python",
      "pygments_lexer": "ipython3",
      "version": "3.10.4"
    }
  },
  "nbformat": 4,
  "nbformat_minor": 0
}
