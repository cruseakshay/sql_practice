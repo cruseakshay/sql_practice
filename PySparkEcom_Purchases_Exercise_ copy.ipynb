{
  "cells": [
    {
      "cell_type": "markdown",
      "metadata": {
        "id": "XyA3C3PR249y"
      },
      "source": [
        "# Ecommerce Purchases Exercise\n",
        "\n",
        "In this Exercise you will be given some Fake Data about some purchases done through Amazon! Just go ahead and follow the directions and try your best to answer the questions and complete the tasks. Most of the tasks can be solved in different ways.\n",
        "\n",
        "Please excuse anything that doesn't make \"Real-World\" sense in the dataframe, all the data is fake and made-up.\n",
        "\n",
        "Also note that all of these questions can be answered with one line of code.\n",
        "____"
      ]
    },
    {
      "cell_type": "code",
      "execution_count": 33,
      "metadata": {
        "id": "s0eemnBU2492"
      },
      "outputs": [],
      "source": [
        "import numpy as np\n",
        "import pandas as pd"
      ]
    },
    {
      "cell_type": "code",
      "execution_count": 34,
      "metadata": {
        "id": "crXxGJ5H2495"
      },
      "outputs": [],
      "source": [
        "path = r'https://raw.githubusercontent.com/cruseakshay/sql_practice/main/Ecommerce_Purchases_data.csv'\n",
        "ecom = pd.read_csv(path)"
      ]
    },
    {
      "cell_type": "code",
      "execution_count": null,
      "metadata": {},
      "outputs": [],
      "source": [
        "!pip install pyspark"
      ]
    },
    {
      "cell_type": "code",
      "execution_count": null,
      "metadata": {},
      "outputs": [],
      "source": [
        "from pyspark.sql import SparkSession\n",
        "\n",
        "spark = SparkSession.builder \\\n",
        "      .master(\"local[1]\") \\\n",
        "      .appName(\"sampleapp\") \\\n",
        "      .getOrCreate() "
      ]
    },
    {
      "cell_type": "markdown",
      "metadata": {
        "id": "bydHTjUv2497"
      },
      "source": [
        "**Inspect first 10 rows of the data.**"
      ]
    },
    {
      "cell_type": "code",
      "execution_count": null,
      "metadata": {
        "id": "aA1qC2Fb2498"
      },
      "outputs": [],
      "source": []
    },
    {
      "cell_type": "markdown",
      "metadata": {
        "id": "31r9YOO324-B"
      },
      "source": [
        "**How many rows and columns are present in data?**"
      ]
    },
    {
      "cell_type": "code",
      "execution_count": null,
      "metadata": {
        "id": "KUZK0ml024-C"
      },
      "outputs": [],
      "source": []
    },
    {
      "cell_type": "markdown",
      "metadata": {
        "id": "Y3mXAKB924-E"
      },
      "source": [
        "**What is the average Purchase Price?**"
      ]
    },
    {
      "cell_type": "code",
      "execution_count": null,
      "metadata": {
        "id": "w95MiYod24-F"
      },
      "outputs": [],
      "source": []
    },
    {
      "cell_type": "markdown",
      "metadata": {
        "id": "2PQ54aIz24-G"
      },
      "source": [
        "**What is the highest and the lowest purchase price?**"
      ]
    },
    {
      "cell_type": "code",
      "execution_count": null,
      "metadata": {
        "id": "g6KogETr24-K"
      },
      "outputs": [],
      "source": []
    },
    {
      "cell_type": "markdown",
      "metadata": {
        "id": "H5LPZoFW24-P"
      },
      "source": [
        "**How many people have English 'en' as their Language of choice on the website?**"
      ]
    },
    {
      "cell_type": "code",
      "execution_count": null,
      "metadata": {
        "id": "DzhJ9wls24-R"
      },
      "outputs": [],
      "source": []
    },
    {
      "cell_type": "markdown",
      "metadata": {
        "id": "B5AzD1dV24-V"
      },
      "source": [
        "**How many people have the job title of \"Lawyer\" ?**\n"
      ]
    },
    {
      "cell_type": "code",
      "execution_count": 47,
      "metadata": {
        "id": "V587_94F24-X"
      },
      "outputs": [],
      "source": []
    },
    {
      "cell_type": "markdown",
      "metadata": {
        "id": "ANZXYKlS24-a"
      },
      "source": [
        "**How many people made the purchase during the AM and how many people made the purchase during PM ?**"
      ]
    },
    {
      "cell_type": "code",
      "execution_count": null,
      "metadata": {
        "id": "Lwzx-SJB24-h"
      },
      "outputs": [],
      "source": []
    },
    {
      "cell_type": "markdown",
      "metadata": {
        "id": "KJEWIUHo24-j"
      },
      "source": [
        "**What are the 5 most common Job Titles?**"
      ]
    },
    {
      "cell_type": "code",
      "execution_count": null,
      "metadata": {
        "id": "FvKaL5EH24-l"
      },
      "outputs": [],
      "source": []
    },
    {
      "cell_type": "markdown",
      "metadata": {
        "id": "xbDyscbG24-n"
      },
      "source": [
        "**Someone made a purchase that came from Lot: \"90 WT\" , what was the Purchase Price for this transaction?**"
      ]
    },
    {
      "cell_type": "code",
      "execution_count": null,
      "metadata": {
        "id": "7jJWP5cc24-q"
      },
      "outputs": [],
      "source": []
    },
    {
      "cell_type": "markdown",
      "metadata": {
        "id": "U4oWRtwb24-s"
      },
      "source": [
        "**What is the email of the person with the following Credit Card Number: 4926535242672853**"
      ]
    },
    {
      "cell_type": "code",
      "execution_count": null,
      "metadata": {
        "id": "skQ68kCu24-u"
      },
      "outputs": [],
      "source": []
    },
    {
      "cell_type": "markdown",
      "metadata": {
        "id": "3q-KKEVA24-w"
      },
      "source": [
        "**How many people have American Express as their Credit Card Provider and made a purchase above $95 ?**"
      ]
    },
    {
      "cell_type": "code",
      "execution_count": null,
      "metadata": {
        "id": "RLc_CW7t24-z"
      },
      "outputs": [],
      "source": []
    },
    {
      "cell_type": "markdown",
      "metadata": {
        "id": "UK4MhSvC24-0"
      },
      "source": [
        "**How many people have a credit card that expires in 2025?**"
      ]
    },
    {
      "cell_type": "code",
      "execution_count": null,
      "metadata": {
        "id": "OYFOXjFM24-1"
      },
      "outputs": [],
      "source": []
    },
    {
      "cell_type": "markdown",
      "metadata": {
        "id": "PVXUxg1K24-3"
      },
      "source": [
        "**What are the top 5 most popular email providers/hosts (e.g. gmail.com, yahoo.com, etc...)**"
      ]
    },
    {
      "cell_type": "code",
      "execution_count": null,
      "metadata": {
        "id": "ADZudy6924-4"
      },
      "outputs": [],
      "source": []
    },
    {
      "cell_type": "markdown",
      "metadata": {
        "id": "NOoAxaTA24-6"
      },
      "source": [
        "# Thank You!"
      ]
    }
  ],
  "metadata": {
    "colab": {
      "name": "Ecommerce Purchases Exercise .ipynb",
      "provenance": []
    },
    "kernelspec": {
      "display_name": "Python 3",
      "language": "python",
      "name": "python3"
    },
    "language_info": {
      "codemirror_mode": {
        "name": "ipython",
        "version": 3
      },
      "file_extension": ".py",
      "mimetype": "text/x-python",
      "name": "python",
      "nbconvert_exporter": "python",
      "pygments_lexer": "ipython3",
      "version": "3.6.5"
    }
  },
  "nbformat": 4,
  "nbformat_minor": 0
}
